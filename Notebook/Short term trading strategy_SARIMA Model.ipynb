{
 "cells": [
  {
   "cell_type": "markdown",
   "id": "77bfb05d-7d6c-4353-8fba-6b194f471bb6",
   "metadata": {},
   "source": [
    "# Objective: Build a short term trading (15 days) strategy using SARIMA model"
   ]
  },
  {
   "cell_type": "markdown",
   "id": "53b4f099-5ba2-4b87-ad40-37d2d01d4f5c",
   "metadata": {},
   "source": [
    "## Import libraries"
   ]
  },
  {
   "cell_type": "code",
   "execution_count": 3,
   "id": "5ee72daf-2372-4456-8b2c-7fe48f0b3315",
   "metadata": {},
   "outputs": [],
   "source": [
    "import pandas as pd\n",
    "import numpy as np\n",
    "from statsmodels.tsa.statespace.sarimax import SARIMAX\n",
    "from statsmodels.tsa.stattools import adfuller\n",
    "import matplotlib.pyplot as plt\n",
    "from sklearn.metrics import mean_absolute_error, mean_squared_error\n",
    "from pmdarima import auto_arima\n",
    "import datetime\n",
    "import yfinance as yf\n",
    "from sklearn.preprocessing import StandardScaler\n",
    "from datetime import datetime\n",
    "import warnings\n",
    "warnings.filterwarnings(\"ignore\")"
   ]
  },
  {
   "cell_type": "markdown",
   "id": "e76c0ed4-30e2-4513-8b9a-cac1d7bb8632",
   "metadata": {},
   "source": [
    "## Create Result df"
   ]
  },
  {
   "cell_type": "code",
   "execution_count": 5,
   "id": "d01c315a-e08d-45f4-9e23-b13a6e8d30a1",
   "metadata": {},
   "outputs": [],
   "source": [
    "result_df=pd.DataFrame(columns=['Ticker','Date_Split','p','d','q','P','D','Q','m','mape','Last_Day_True_Price',\n",
    "                                'T_D1','T_D2','T_D3','T_D4','T_D5','T_D6','T_D7','T_D8',\n",
    "                                'T_D9','T_D10','T_D11','T_D12','T_D13','T_D14','T_D15',\n",
    "                                'P_D1','P_D2','P_D3','P_D4','P_D5','P_D6','P_D7','P_D8',\n",
    "                                'P_D9','P_D10','P_D11','P_D12','P_D13','P_D14','P_D15'])\n",
    "# p = AutoRegressive Order, d = Differencing Order, q = Moving Average Order\n",
    "# P = Seasonal AutoRegressive Order, D = Seasonal Differencing Order, Q = Seasonal Moving Average Order\n",
    "# m = Seasonal Periodicity\n",
    "# mape = mean absolute percentage error\n",
    "# T = True or Actual Value\n",
    "# P = Predicted Value\n",
    "# D = Days, D5 denotes 5th day price"
   ]
  },
  {
   "cell_type": "markdown",
   "id": "15565245-88fd-4af3-96fa-baf2c0a9b1c0",
   "metadata": {},
   "source": [
    "## Defining time frames  "
   ]
  },
  {
   "cell_type": "markdown",
   "id": "f9f9cdfa-a5bf-4424-9880-a92ccdd760c0",
   "metadata": {},
   "source": [
    "Selected time period is from 2020 jan to 2021 April. Final data is with time frame 2020 jan to 2024 October. Smaller time period is selected here to avoid server loading"
   ]
  },
  {
   "cell_type": "code",
   "execution_count": 8,
   "id": "e122d17a-444a-497d-aec1-03c92250d182",
   "metadata": {},
   "outputs": [],
   "source": [
    "dates = [datetime(2021,4,1),datetime(2021,3,1),datetime(2021,2,1),datetime(2021,1,1),datetime(2020,12,1),datetime(2020,11,1),\n",
    "         datetime(2020,10,1),datetime(2020,9,1),datetime(2020,8,1),datetime(2020,7,1),datetime(2020,6,1),datetime(2020,5,1),\n",
    "        datetime(2020,4,1),datetime(2020,3,1),datetime(2020,2,1),datetime(2020,1,1)]\n",
    "# time frames for analysis\n",
    "nifty_tickers=pd.read_excel(\"/Users/kuriankgeorge/Downloads/Nifty50.xlsx\")\n",
    "#  Nifty 50 tickers\n",
    "tickers = nifty_tickers['SYMBOL \\n'].apply(lambda x: x + \".NS\").tolist()"
   ]
  },
  {
   "cell_type": "markdown",
   "id": "86f01986-2967-40cf-b1cf-9dc0fc22eae4",
   "metadata": {},
   "source": [
    "## SARIMA modeling"
   ]
  },
  {
   "cell_type": "code",
   "execution_count": 10,
   "id": "ca19e1c4-51e8-4ee9-8cde-8359bc03cb9f",
   "metadata": {},
   "outputs": [
    {
     "name": "stderr",
     "output_type": "stream",
     "text": [
      "[*********************100%***********************]  1 of 1 completed\n",
      "[*********************100%***********************]  1 of 1 completed\n",
      "[*********************100%***********************]  1 of 1 completed\n",
      "[*********************100%***********************]  1 of 1 completed\n",
      "[*********************100%***********************]  1 of 1 completed\n",
      "[*********************100%***********************]  1 of 1 completed\n",
      "[*********************100%***********************]  1 of 1 completed\n",
      "[*********************100%***********************]  1 of 1 completed\n",
      "[*********************100%***********************]  1 of 1 completed\n",
      "[*********************100%***********************]  1 of 1 completed\n",
      "[*********************100%***********************]  1 of 1 completed\n",
      "[*********************100%***********************]  1 of 1 completed\n",
      "[*********************100%***********************]  1 of 1 completed\n",
      "[*********************100%***********************]  1 of 1 completed\n",
      "[*********************100%***********************]  1 of 1 completed\n",
      "[*********************100%***********************]  1 of 1 completed\n",
      "[*********************100%***********************]  1 of 1 completed\n",
      "[*********************100%***********************]  1 of 1 completed\n",
      "[*********************100%***********************]  1 of 1 completed\n",
      "[*********************100%***********************]  1 of 1 completed\n",
      "[*********************100%***********************]  1 of 1 completed\n",
      "[*********************100%***********************]  1 of 1 completed\n",
      "[*********************100%***********************]  1 of 1 completed\n",
      "[*********************100%***********************]  1 of 1 completed\n",
      "[*********************100%***********************]  1 of 1 completed\n",
      "[*********************100%***********************]  1 of 1 completed\n",
      "[*********************100%***********************]  1 of 1 completed\n",
      "[*********************100%***********************]  1 of 1 completed\n",
      "[*********************100%***********************]  1 of 1 completed\n",
      "[*********************100%***********************]  1 of 1 completed\n",
      "[*********************100%***********************]  1 of 1 completed\n",
      "[*********************100%***********************]  1 of 1 completed\n",
      "[*********************100%***********************]  1 of 1 completed\n",
      "[*********************100%***********************]  1 of 1 completed\n",
      "[*********************100%***********************]  1 of 1 completed\n",
      "[*********************100%***********************]  1 of 1 completed\n",
      "[*********************100%***********************]  1 of 1 completed\n",
      "[*********************100%***********************]  1 of 1 completed\n",
      "[*********************100%***********************]  1 of 1 completed\n",
      "[*********************100%***********************]  1 of 1 completed\n",
      "[*********************100%***********************]  1 of 1 completed\n",
      "[*********************100%***********************]  1 of 1 completed\n",
      "[*********************100%***********************]  1 of 1 completed\n",
      "[*********************100%***********************]  1 of 1 completed\n",
      "[*********************100%***********************]  1 of 1 completed\n",
      "[*********************100%***********************]  1 of 1 completed\n",
      "[*********************100%***********************]  1 of 1 completed\n",
      "[*********************100%***********************]  1 of 1 completed\n",
      "[*********************100%***********************]  1 of 1 completed\n",
      "[*********************100%***********************]  1 of 1 completed\n"
     ]
    }
   ],
   "source": [
    " # Downloading stock price data from yf\n",
    "for tic in tickers:\n",
    "    ticker = tic\n",
    "    start_date = \"2018-06-01\"\n",
    "    end_date = \"2024-11-14\"\n",
    "    data_all_initial = yf.download(ticker, start=start_date, end=end_date)\n",
    "    data_all=data_all_initial[data_all_initial.columns[1]].to_frame()\n",
    "    data_all.columns=['Close']\n",
    "   \n",
    "    # Splitting the data for different time frames, creating train and test df \n",
    "    for date in dates:\n",
    "    \n",
    "        train_df=data_all[:date].iloc[-500:]\n",
    "        train_df=train_df[['Close']]\n",
    "        test_df=data_all[(date+pd.Timedelta(days=1)):].iloc[:15]\n",
    "        test_df=test_df[['Close']]\n",
    "        last_test_date=test_df.index[-1].date()\n",
    "        final_train_df=data_all[:last_test_date].iloc[-500:]\n",
    "        final_train_df=final_train_df[['Close']]\n",
    "        true_price_data=data_all[(last_test_date+pd.Timedelta(days=1)):].iloc[:15]\n",
    "        true_price=true_price_data[['Close']]\n",
    "        \n",
    "        \n",
    "        Last_Day_True_Price=final_train_df['Close'][-1]\n",
    "        true_price['Per_Chng']=((true_price['Close'] - Last_Day_True_Price) / Last_Day_True_Price) * 100\n",
    "\n",
    "        # Defining parameters for hyperparameter tuning\n",
    "        arima_model = auto_arima(\n",
    "        train_df,\n",
    "        start_p=0, max_p=5,   # Range for AR term\n",
    "        start_q=0, max_q=5,   # Range for MA term\n",
    "        d=1,                  # Differencing order \n",
    "        start_P=0, max_P=5,   # Seasonal AR term\n",
    "        start_Q=0, max_Q=5,   # Seasonal MA term\n",
    "        D=1,                  # Seasonal differencing order\n",
    "        m=5,                  # Seasonality period (Assuming 5 trading days in a week)\n",
    "        seasonal=True,        # Enable seasonal component\n",
    "        trace=False,           # Show the tuning progress\n",
    "        error_action='ignore', \n",
    "        suppress_warnings=True, \n",
    "        stepwise=True,\n",
    "        n_fits=20\n",
    "        )\n",
    "        \n",
    "        # Getting the best parameters\n",
    "        best_order = arima_model.order\n",
    "        best_seasonal_order = arima_model.seasonal_order\n",
    "        model = SARIMAX(train_df, order=best_order, seasonal_order=best_seasonal_order)\n",
    "        sarimax_fit = model.fit(disp=False)\n",
    "        \n",
    "        # Getting the forecast for next 15 days\n",
    "        forecast = sarimax_fit.get_forecast(steps=15)\n",
    "        forecast_index = test_df.index\n",
    "        forecast_values = forecast.predicted_mean\n",
    "\n",
    "        # Calculate mape \n",
    "        forecast_values = np.array(forecast_values)\n",
    "        forecast_values = pd.Series(forecast_values, index=test_df.index)\n",
    "        mape = np.mean(np.abs((test_df['Close'] - forecast_values) / test_df['Close'])) * 100\n",
    "\n",
    "        # Fiting the model with additional 15 days values\n",
    "        best_order = arima_model.order\n",
    "        best_seasonal_order = arima_model.seasonal_order\n",
    "        final_model = SARIMAX(final_train_df, order=best_order, seasonal_order=best_seasonal_order)\n",
    "        sarimax_final_fit = final_model.fit(disp=False)\n",
    "\n",
    "        \n",
    "        # Getting final forecast for 15 days\n",
    "        forecast_final = sarimax_final_fit.get_forecast(steps=15)\n",
    "        forecast_values_final = forecast.predicted_mean\n",
    "\n",
    "        # Updating forecast values to df\n",
    "        forecast_values_final=np.array(forecast_values_final)\n",
    "        forecast_values_final=pd.DataFrame(forecast_values_final,columns=['Price'])\n",
    " \n",
    "        # Getting Percentage change of price\n",
    "        forecast_values_final['Per_Chng']=((forecast_values_final['Price'] - Last_Day_True_Price) / Last_Day_True_Price) * 100\n",
    "\n",
    "        # Adding the results to df\n",
    "        row={'Ticker':tic,'Date_Split':date,'p':arima_model.order[0],'d':arima_model.order[1],'q':arima_model.order[2],\n",
    "         'P':arima_model.seasonal_order[0],'D':arima_model.seasonal_order[1],'Q':arima_model.seasonal_order[2],'m':arima_model.seasonal_order[3],\n",
    "         'mape':mape,'Last_Day_True_Price':Last_Day_True_Price,\n",
    "         'T_D1':true_price['Per_Chng'][0],'T_D2':true_price['Per_Chng'][1],'T_D3':true_price['Per_Chng'][2],\n",
    "         'T_D4':true_price['Per_Chng'][3],'T_D5':true_price['Per_Chng'][4],'T_D6':true_price['Per_Chng'][5],\n",
    "         'T_D7':true_price['Per_Chng'][6],'T_D8':true_price['Per_Chng'][7],'T_D9':true_price['Per_Chng'][8],\n",
    "         'T_D10':true_price['Per_Chng'][9],'T_D11':true_price['Per_Chng'][10],'T_D12':true_price['Per_Chng'][11],\n",
    "         'T_D13':true_price['Per_Chng'][12],'T_D14':true_price['Per_Chng'][13],'T_D15':true_price['Per_Chng'][14],\n",
    "         'P_D1':forecast_values_final['Per_Chng'][0],'P_D2':forecast_values_final['Per_Chng'][1],'P_D3':forecast_values_final['Per_Chng'][2],\n",
    "         'P_D4':forecast_values_final['Per_Chng'][3],'P_D5':forecast_values_final['Per_Chng'][4],'P_D6':forecast_values_final['Per_Chng'][5],\n",
    "         'P_D7':forecast_values_final['Per_Chng'][6],'P_D8':forecast_values_final['Per_Chng'][7],'P_D9':forecast_values_final['Per_Chng'][8],\n",
    "         'P_D10':forecast_values_final['Per_Chng'][9],'P_D11':forecast_values_final['Per_Chng'][10],'P_D12':forecast_values_final['Per_Chng'][11],\n",
    "         'P_D13':forecast_values_final['Per_Chng'][12],'P_D14':forecast_values_final['Per_Chng'][13],'P_D15':forecast_values_final['Per_Chng'][14]}\n",
    "    \n",
    "        result_df = pd.concat([result_df, pd.DataFrame([row])], ignore_index=True)"
   ]
  },
  {
   "cell_type": "code",
   "execution_count": 11,
   "id": "ca7ba97e-1d97-479e-8616-1b134cc82b9f",
   "metadata": {},
   "outputs": [],
   "source": [
    "# Display all columns\n",
    "pd.set_option('display.max_columns', None)"
   ]
  },
  {
   "cell_type": "code",
   "execution_count": 12,
   "id": "92c4c2ba-b95d-48de-94a8-e3855710bd4b",
   "metadata": {},
   "outputs": [],
   "source": [
    "# Saving the results\n",
    "result_df.to_csv(\"result_4.csv\", index=False)"
   ]
  },
  {
   "cell_type": "code",
   "execution_count": 13,
   "id": "905c89e1-3d95-4bb0-ba23-022a627f2fa3",
   "metadata": {},
   "outputs": [
    {
     "data": {
      "text/plain": [
       "(2900, 41)"
      ]
     },
     "execution_count": 13,
     "metadata": {},
     "output_type": "execute_result"
    }
   ],
   "source": [
    "# Loading all the result df from 2020 jan to 2024 oct period\n",
    "result_0_df=pd.read_csv(\"result.csv\")\n",
    "result_1_df=pd.read_csv(\"result_1.csv\")\n",
    "result_2_df=pd.read_csv(\"result_2.csv\")\n",
    "result_3_df=pd.read_csv(\"result_3.csv\")\n",
    "result_4_df=pd.read_csv(\"result_4.csv\")\n",
    "# Merging all df\n",
    "merged_df = pd.concat([result_0_df, result_1_df, result_2_df,result_3_df,result_4_df], ignore_index=True)\n",
    "# Shape of merged df\n",
    "merged_df.shape"
   ]
  },
  {
   "cell_type": "markdown",
   "id": "835ff3d3-f358-48b8-a4df-93444ef006d9",
   "metadata": {},
   "source": [
    "## Building the Strategy"
   ]
  },
  {
   "cell_type": "code",
   "execution_count": 15,
   "id": "9b87bbd4-30c2-41a6-9f1a-8dab3b3b832d",
   "metadata": {},
   "outputs": [],
   "source": [
    "# Setting the stop loss target, -5% if price<-5%, or else 15th day price\n",
    "merged_df['Booked_Price']=merged_df['T_D15'].apply(lambda x:-5 if x<-5 else x)"
   ]
  },
  {
   "cell_type": "code",
   "execution_count": 16,
   "id": "232038f9-30b7-4b88-aa4f-28fdb0e12c61",
   "metadata": {},
   "outputs": [],
   "source": [
    "# Creating df to update results\n",
    "trade_result_df=pd.DataFrame(columns=['mape','P_D15','Total_Trade','Succ_Per','Avg_Return'])"
   ]
  },
  {
   "cell_type": "code",
   "execution_count": 17,
   "id": "d5bf7317-ab8b-4fd7-97b0-e6327fa9b706",
   "metadata": {},
   "outputs": [],
   "source": [
    "# Creating range of mape and D15 percentage gain to build strategy\n",
    "mape_list=[2,2.2,2.5,3]\n",
    "P_D15_list=[4,4.5,5]"
   ]
  },
  {
   "cell_type": "code",
   "execution_count": 18,
   "id": "b0cdd989-33bb-4cd4-9251-75cb4121dd35",
   "metadata": {},
   "outputs": [],
   "source": [
    "# Updating results\n",
    "for mape in mape_list:\n",
    "    for P_D15 in P_D15_list:\n",
    "        condition_df=merged_df[(merged_df['mape']<mape)&(merged_df['P_D15']>P_D15)]\n",
    "        total_trade=len(condition_df)\n",
    "        success_trade=(condition_df['Booked_Price']>0).sum()\n",
    "        per_success=round(((success_trade/total_trade)*100),2)\n",
    "        avg_return=round((condition_df['Booked_Price'].mean()),2)\n",
    "\n",
    "        row_1={'mape':f'<{mape}','P_D15':f'>{P_D15}','Total_Trade':total_trade,'Succ_Per':per_success,'Avg_Return':avg_return}\n",
    "\n",
    "        trade_result_df = pd.concat([trade_result_df, pd.DataFrame([row_1])], ignore_index=True)"
   ]
  },
  {
   "cell_type": "code",
   "execution_count": 19,
   "id": "f7df9de7-b529-4ea2-aa94-e570b7f21668",
   "metadata": {},
   "outputs": [],
   "source": [
    "# Sorting values by success percentage\n",
    "trade_result_df=trade_result_df.sort_values(by=['Succ_Per'],ascending=False).reset_index(drop=True)"
   ]
  },
  {
   "cell_type": "code",
   "execution_count": 20,
   "id": "b70420c0-ec62-4202-80d7-cd642006b2de",
   "metadata": {},
   "outputs": [
    {
     "data": {
      "text/html": [
       "<div>\n",
       "<style scoped>\n",
       "    .dataframe tbody tr th:only-of-type {\n",
       "        vertical-align: middle;\n",
       "    }\n",
       "\n",
       "    .dataframe tbody tr th {\n",
       "        vertical-align: top;\n",
       "    }\n",
       "\n",
       "    .dataframe thead th {\n",
       "        text-align: right;\n",
       "    }\n",
       "</style>\n",
       "<table border=\"1\" class=\"dataframe\">\n",
       "  <thead>\n",
       "    <tr style=\"text-align: right;\">\n",
       "      <th></th>\n",
       "      <th>mape</th>\n",
       "      <th>P_D15</th>\n",
       "      <th>Total_Trade</th>\n",
       "      <th>Succ_Per</th>\n",
       "      <th>Avg_Return</th>\n",
       "    </tr>\n",
       "  </thead>\n",
       "  <tbody>\n",
       "    <tr>\n",
       "      <th>0</th>\n",
       "      <td>&lt;3</td>\n",
       "      <td>&gt;5</td>\n",
       "      <td>148</td>\n",
       "      <td>62.84</td>\n",
       "      <td>2.54</td>\n",
       "    </tr>\n",
       "    <tr>\n",
       "      <th>1</th>\n",
       "      <td>&lt;2.5</td>\n",
       "      <td>&gt;5</td>\n",
       "      <td>78</td>\n",
       "      <td>61.54</td>\n",
       "      <td>2.54</td>\n",
       "    </tr>\n",
       "    <tr>\n",
       "      <th>2</th>\n",
       "      <td>&lt;2.2</td>\n",
       "      <td>&gt;4</td>\n",
       "      <td>82</td>\n",
       "      <td>60.98</td>\n",
       "      <td>2.34</td>\n",
       "    </tr>\n",
       "    <tr>\n",
       "      <th>3</th>\n",
       "      <td>&lt;2</td>\n",
       "      <td>&gt;4</td>\n",
       "      <td>48</td>\n",
       "      <td>60.42</td>\n",
       "      <td>1.77</td>\n",
       "    </tr>\n",
       "    <tr>\n",
       "      <th>4</th>\n",
       "      <td>&lt;3</td>\n",
       "      <td>&gt;4.5</td>\n",
       "      <td>188</td>\n",
       "      <td>60.11</td>\n",
       "      <td>2.27</td>\n",
       "    </tr>\n",
       "    <tr>\n",
       "      <th>5</th>\n",
       "      <td>&lt;3</td>\n",
       "      <td>&gt;4</td>\n",
       "      <td>233</td>\n",
       "      <td>59.66</td>\n",
       "      <td>2.26</td>\n",
       "    </tr>\n",
       "    <tr>\n",
       "      <th>6</th>\n",
       "      <td>&lt;2.2</td>\n",
       "      <td>&gt;5</td>\n",
       "      <td>44</td>\n",
       "      <td>59.09</td>\n",
       "      <td>2.48</td>\n",
       "    </tr>\n",
       "    <tr>\n",
       "      <th>7</th>\n",
       "      <td>&lt;2</td>\n",
       "      <td>&gt;4.5</td>\n",
       "      <td>34</td>\n",
       "      <td>58.82</td>\n",
       "      <td>1.34</td>\n",
       "    </tr>\n",
       "    <tr>\n",
       "      <th>8</th>\n",
       "      <td>&lt;2.2</td>\n",
       "      <td>&gt;4.5</td>\n",
       "      <td>63</td>\n",
       "      <td>58.73</td>\n",
       "      <td>2.30</td>\n",
       "    </tr>\n",
       "    <tr>\n",
       "      <th>9</th>\n",
       "      <td>&lt;2.5</td>\n",
       "      <td>&gt;4</td>\n",
       "      <td>138</td>\n",
       "      <td>57.97</td>\n",
       "      <td>2.25</td>\n",
       "    </tr>\n",
       "    <tr>\n",
       "      <th>10</th>\n",
       "      <td>&lt;2.5</td>\n",
       "      <td>&gt;4.5</td>\n",
       "      <td>106</td>\n",
       "      <td>57.55</td>\n",
       "      <td>2.09</td>\n",
       "    </tr>\n",
       "    <tr>\n",
       "      <th>11</th>\n",
       "      <td>&lt;2</td>\n",
       "      <td>&gt;5</td>\n",
       "      <td>21</td>\n",
       "      <td>57.14</td>\n",
       "      <td>0.80</td>\n",
       "    </tr>\n",
       "  </tbody>\n",
       "</table>\n",
       "</div>"
      ],
      "text/plain": [
       "    mape P_D15 Total_Trade  Succ_Per  Avg_Return\n",
       "0     <3    >5         148     62.84        2.54\n",
       "1   <2.5    >5          78     61.54        2.54\n",
       "2   <2.2    >4          82     60.98        2.34\n",
       "3     <2    >4          48     60.42        1.77\n",
       "4     <3  >4.5         188     60.11        2.27\n",
       "5     <3    >4         233     59.66        2.26\n",
       "6   <2.2    >5          44     59.09        2.48\n",
       "7     <2  >4.5          34     58.82        1.34\n",
       "8   <2.2  >4.5          63     58.73        2.30\n",
       "9   <2.5    >4         138     57.97        2.25\n",
       "10  <2.5  >4.5         106     57.55        2.09\n",
       "11    <2    >5          21     57.14        0.80"
      ]
     },
     "execution_count": 20,
     "metadata": {},
     "output_type": "execute_result"
    }
   ],
   "source": [
    "trade_result_df"
   ]
  },
  {
   "cell_type": "code",
   "execution_count": 21,
   "id": "bd5d9d16-43eb-4c69-bfb4-c47e847cfa9b",
   "metadata": {},
   "outputs": [],
   "source": [
    "# Calculating the annual return for the best case, assuming 250 trading days in an year\n",
    "annual_return=(250*2.54)/(15)"
   ]
  },
  {
   "cell_type": "code",
   "execution_count": 22,
   "id": "360180ed-7e87-4228-9fd7-2263ce5dfa35",
   "metadata": {},
   "outputs": [
    {
     "data": {
      "text/plain": [
       "42.333333333333336"
      ]
     },
     "execution_count": 22,
     "metadata": {},
     "output_type": "execute_result"
    }
   ],
   "source": [
    "annual_return"
   ]
  },
  {
   "cell_type": "markdown",
   "id": "6b6b7eb9-9f54-44b0-82fc-7b92d7c5612c",
   "metadata": {},
   "source": [
    "## Evaluating Successful and Unsuccessful Cases"
   ]
  },
  {
   "cell_type": "code",
   "execution_count": 24,
   "id": "37896c7b-9753-4eda-9e6b-e496d24da829",
   "metadata": {},
   "outputs": [
    {
     "data": {
      "text/html": [
       "<div>\n",
       "<style scoped>\n",
       "    .dataframe tbody tr th:only-of-type {\n",
       "        vertical-align: middle;\n",
       "    }\n",
       "\n",
       "    .dataframe tbody tr th {\n",
       "        vertical-align: top;\n",
       "    }\n",
       "\n",
       "    .dataframe thead th {\n",
       "        text-align: right;\n",
       "    }\n",
       "</style>\n",
       "<table border=\"1\" class=\"dataframe\">\n",
       "  <thead>\n",
       "    <tr style=\"text-align: right;\">\n",
       "      <th></th>\n",
       "      <th>Ticker</th>\n",
       "      <th>Date_Split</th>\n",
       "      <th>p</th>\n",
       "      <th>d</th>\n",
       "      <th>q</th>\n",
       "      <th>P</th>\n",
       "      <th>D</th>\n",
       "      <th>Q</th>\n",
       "      <th>m</th>\n",
       "      <th>mape</th>\n",
       "      <th>T_D15</th>\n",
       "      <th>P_D15</th>\n",
       "      <th>Booked_Price</th>\n",
       "    </tr>\n",
       "  </thead>\n",
       "  <tbody>\n",
       "    <tr>\n",
       "      <th>7</th>\n",
       "      <td>COALINDIA.NS</td>\n",
       "      <td>2024-10-01</td>\n",
       "      <td>0</td>\n",
       "      <td>1</td>\n",
       "      <td>1</td>\n",
       "      <td>5</td>\n",
       "      <td>1</td>\n",
       "      <td>0</td>\n",
       "      <td>5</td>\n",
       "      <td>1.955200</td>\n",
       "      <td>-14.174227</td>\n",
       "      <td>4.547643</td>\n",
       "      <td>-5.000000</td>\n",
       "    </tr>\n",
       "    <tr>\n",
       "      <th>67</th>\n",
       "      <td>KOTAKBANK.NS</td>\n",
       "      <td>2024-07-01</td>\n",
       "      <td>0</td>\n",
       "      <td>1</td>\n",
       "      <td>1</td>\n",
       "      <td>5</td>\n",
       "      <td>1</td>\n",
       "      <td>0</td>\n",
       "      <td>5</td>\n",
       "      <td>2.014738</td>\n",
       "      <td>-0.952568</td>\n",
       "      <td>6.603278</td>\n",
       "      <td>-0.952568</td>\n",
       "    </tr>\n",
       "    <tr>\n",
       "      <th>77</th>\n",
       "      <td>RELIANCE.NS</td>\n",
       "      <td>2024-07-01</td>\n",
       "      <td>0</td>\n",
       "      <td>1</td>\n",
       "      <td>0</td>\n",
       "      <td>5</td>\n",
       "      <td>1</td>\n",
       "      <td>0</td>\n",
       "      <td>5</td>\n",
       "      <td>1.919108</td>\n",
       "      <td>-1.631496</td>\n",
       "      <td>8.227537</td>\n",
       "      <td>-1.631496</td>\n",
       "    </tr>\n",
       "    <tr>\n",
       "      <th>90</th>\n",
       "      <td>TECHM.NS</td>\n",
       "      <td>2024-09-01</td>\n",
       "      <td>0</td>\n",
       "      <td>1</td>\n",
       "      <td>0</td>\n",
       "      <td>5</td>\n",
       "      <td>1</td>\n",
       "      <td>0</td>\n",
       "      <td>5</td>\n",
       "      <td>2.557207</td>\n",
       "      <td>4.343266</td>\n",
       "      <td>4.572611</td>\n",
       "      <td>4.343266</td>\n",
       "    </tr>\n",
       "    <tr>\n",
       "      <th>92</th>\n",
       "      <td>TECHM.NS</td>\n",
       "      <td>2024-07-01</td>\n",
       "      <td>0</td>\n",
       "      <td>1</td>\n",
       "      <td>0</td>\n",
       "      <td>5</td>\n",
       "      <td>1</td>\n",
       "      <td>0</td>\n",
       "      <td>5</td>\n",
       "      <td>2.365357</td>\n",
       "      <td>0.669613</td>\n",
       "      <td>6.049475</td>\n",
       "      <td>0.669613</td>\n",
       "    </tr>\n",
       "  </tbody>\n",
       "</table>\n",
       "</div>"
      ],
      "text/plain": [
       "          Ticker  Date_Split  p  d  q  P  D  Q  m      mape      T_D15  \\\n",
       "7   COALINDIA.NS  2024-10-01  0  1  1  5  1  0  5  1.955200 -14.174227   \n",
       "67  KOTAKBANK.NS  2024-07-01  0  1  1  5  1  0  5  2.014738  -0.952568   \n",
       "77   RELIANCE.NS  2024-07-01  0  1  0  5  1  0  5  1.919108  -1.631496   \n",
       "90      TECHM.NS  2024-09-01  0  1  0  5  1  0  5  2.557207   4.343266   \n",
       "92      TECHM.NS  2024-07-01  0  1  0  5  1  0  5  2.365357   0.669613   \n",
       "\n",
       "       P_D15  Booked_Price  \n",
       "7   4.547643     -5.000000  \n",
       "67  6.603278     -0.952568  \n",
       "77  8.227537     -1.631496  \n",
       "90  4.572611      4.343266  \n",
       "92  6.049475      0.669613  "
      ]
     },
     "execution_count": 24,
     "metadata": {},
     "output_type": "execute_result"
    }
   ],
   "source": [
    "# Filter cases with mape < 3% and 15 day price > 5%\n",
    "condition_df_new=merged_df[(merged_df['mape']<3)&(merged_df['P_D15']>4)]\n",
    "# Filter required columns\n",
    "condition_df_new=condition_df_new[['Ticker','Date_Split','p','d','q','P','D','Q','m','mape','T_D15','P_D15','Booked_Price']]\n",
    "condition_df_new.head()"
   ]
  },
  {
   "cell_type": "markdown",
   "id": "1270b6d2-248d-460d-ad38-1849251063d3",
   "metadata": {},
   "source": [
    "### Case 1: Successful Outcome"
   ]
  },
  {
   "cell_type": "code",
   "execution_count": 34,
   "id": "4ca0dc04-c5fe-4657-a61f-c70ae7554da2",
   "metadata": {},
   "outputs": [
    {
     "name": "stderr",
     "output_type": "stream",
     "text": [
      "[*********************100%***********************]  1 of 1 completed\n"
     ]
    }
   ],
   "source": [
    "# Download TECHM price data from yf\n",
    "ticker = \"TECHM.NS\"\n",
    "start_date = \"2018-06-01\"\n",
    "end_date = \"2024-11-14\"\n",
    "data_all_initial = yf.download(ticker, start=start_date, end=end_date)\n",
    "data_all=data_all_initial[data_all_initial.columns[1]].to_frame()\n",
    "data_all.columns=['Close']"
   ]
  },
  {
   "cell_type": "code",
   "execution_count": 36,
   "id": "e9e53b77-d05a-4669-ace5-f73bafc67e9f",
   "metadata": {},
   "outputs": [],
   "source": [
    "# Creating train and test df\n",
    "date=datetime(2024, 9, 1)\n",
    "train_df=data_all[:date].iloc[-500:]\n",
    "train_df=train_df[['Close']]\n",
    "test_df=data_all[(date+pd.Timedelta(days=1)):].iloc[:15]\n",
    "test_df=test_df[['Close']]\n",
    "last_test_date=test_df.index[-1].date()\n",
    "final_train_df=data_all[:last_test_date].iloc[-500:]\n",
    "final_train_df=final_train_df[['Close']]\n",
    "true_price_data=data_all[(last_test_date+pd.Timedelta(days=1)):].iloc[:15]\n",
    "true_price=true_price_data[['Close']]"
   ]
  },
  {
   "cell_type": "code",
   "execution_count": 38,
   "id": "699eb108-e056-40d7-9428-fb36cde9966f",
   "metadata": {},
   "outputs": [],
   "source": [
    "# Storing last day price, 15 day per change to df\n",
    "Last_Day_True_Price=final_train_df['Close'][-1]\n",
    "true_price['Per_Chng']=((true_price['Close'] - Last_Day_True_Price) / Last_Day_True_Price) * 100"
   ]
  },
  {
   "cell_type": "code",
   "execution_count": 40,
   "id": "7bfabbad-11ec-43eb-9064-a20ea0a9882d",
   "metadata": {},
   "outputs": [],
   "source": [
    "# Modeling\n",
    "model = SARIMAX(final_train_df, order=(0,1,0), seasonal_order=(5,1,0,5))\n",
    "sarimax_fit = model.fit(disp=False)"
   ]
  },
  {
   "cell_type": "code",
   "execution_count": 42,
   "id": "d899a2e3-3893-436d-bf78-cc9171753df2",
   "metadata": {},
   "outputs": [],
   "source": [
    "# Forecasting for 15 days\n",
    "forecast = sarimax_fit.get_forecast(steps=15)\n",
    "forecast_index = true_price.index\n",
    "forecast_values = forecast.predicted_mean"
   ]
  },
  {
   "cell_type": "code",
   "execution_count": 44,
   "id": "f5a22005-d453-488e-823d-ee6eaed73ec7",
   "metadata": {},
   "outputs": [
    {
     "data": {
      "image/png": "[encoded data removed]",
      "text/plain": [
       "<Figure size 1000x600 with 1 Axes>"
      ]
     },
     "metadata": {},
     "output_type": "display_data"
    }
   ],
   "source": [
    "# Plotting Actual and Predicted Price\n",
    "x_tic=true_price.index[::2]\n",
    "plt.figure(figsize=(10, 6))\n",
    "plt.plot(true_price.index, true_price['Close'], label='Actual Price', color='orange')\n",
    "plt.plot(forecast_index, forecast_values, label='Predictions', color='green')\n",
    "plt.xlabel(\"Date\")\n",
    "plt.ylabel(\"Stock Price\")\n",
    "plt.title(\"Tech Mahindra Stock Price Actual vs Prediction\")\n",
    "plt.xticks(ticks=x_tic,rotation=45)\n",
    "plt.legend()\n",
    "plt.show()"
   ]
  },
  {
   "cell_type": "markdown",
   "id": "1d980717-2a50-4943-a746-94b82301d786",
   "metadata": {},
   "source": [
    "#### Checking the stationarity"
   ]
  },
  {
   "cell_type": "code",
   "execution_count": 46,
   "id": "3feaec07-42da-4a48-a30f-43a727769208",
   "metadata": {},
   "outputs": [],
   "source": [
    "from statsmodels.tsa.stattools import adfuller"
   ]
  },
  {
   "cell_type": "code",
   "execution_count": 48,
   "id": "9114ab0f-576e-4438-bfab-28788e8a7e87",
   "metadata": {},
   "outputs": [],
   "source": [
    "result=adfuller(final_train_df['Close'])"
   ]
  },
  {
   "cell_type": "code",
   "execution_count": 50,
   "id": "ebde4fab-b0c4-4de5-a27b-953c8236c0c8",
   "metadata": {},
   "outputs": [
    {
     "name": "stdout",
     "output_type": "stream",
     "text": [
      "Closing Price is not stationary\n"
     ]
    }
   ],
   "source": [
    "if result[1]>0.05:\n",
    "    print(\"Closing Price is not stationary\")\n",
    "else:\n",
    "    print(\"Closing Price is stationary\")"
   ]
  },
  {
   "cell_type": "code",
   "execution_count": 52,
   "id": "8e584a5b-52bd-4e6a-bc55-a3526e14b3bd",
   "metadata": {},
   "outputs": [],
   "source": [
    "final_train_df_copy=final_train_df['Close']"
   ]
  },
  {
   "cell_type": "code",
   "execution_count": 54,
   "id": "8f3d359d-49c1-43e3-aa2f-39ec93b1ca3c",
   "metadata": {},
   "outputs": [],
   "source": [
    "# Taking the first difference\n",
    "final_train_df_copy=final_train_df_copy.diff()"
   ]
  },
  {
   "cell_type": "code",
   "execution_count": 56,
   "id": "dc0c9525-6070-47f4-9998-e8c70d399359",
   "metadata": {},
   "outputs": [],
   "source": [
    "final_train_df_copy.dropna(inplace=True)"
   ]
  },
  {
   "cell_type": "code",
   "execution_count": 58,
   "id": "5f8235e5-b34a-4069-ac9e-76cffed30d06",
   "metadata": {},
   "outputs": [
    {
     "name": "stdout",
     "output_type": "stream",
     "text": [
      "Closing Price is stationary\n"
     ]
    }
   ],
   "source": [
    "result=adfuller(final_train_df_copy)\n",
    "if result[1]>0.05:\n",
    "    print(\"Closing Price is not stationary\")\n",
    "else:\n",
    "    print(\"Closing Price is stationary\")"
   ]
  },
  {
   "cell_type": "markdown",
   "id": "6b914ff8-f0f7-4381-b5f4-d644c6188766",
   "metadata": {},
   "source": [
    "First difference make the data stationary"
   ]
  },
  {
   "cell_type": "markdown",
   "id": "dcfbefb6-23ff-4041-9b45-c28488b2170f",
   "metadata": {},
   "source": [
    "#### Plotting ACF and PACF"
   ]
  },
  {
   "cell_type": "code",
   "execution_count": 60,
   "id": "00b2462b-da06-41e0-a4a6-fcc9ca1da44f",
   "metadata": {},
   "outputs": [],
   "source": [
    "from statsmodels.graphics.tsaplots import plot_acf, plot_pacf"
   ]
  },
  {
   "cell_type": "code",
   "execution_count": 62,
   "id": "9b270957-612b-49c5-9dd3-cf126e14ce4a",
   "metadata": {},
   "outputs": [
    {
     "data": {
      "image/png": "[encoded data removed]",
      "text/plain": [
       "<Figure size 1500x600 with 2 Axes>"
      ]
     },
     "metadata": {},
     "output_type": "display_data"
    }
   ],
   "source": [
    "fig, ax = plt.subplots(1, 2, figsize=(15, 6))\n",
    "plot_acf(final_train_df_copy, lags=40, ax=ax[0])\n",
    "ax[0].set_title('Autocorrelation Function (ACF)')\n",
    "plot_pacf(final_train_df_copy, lags=40, method='ywm', ax=ax[1]) \n",
    "ax[1].set_title('Partial Autocorrelation Function (PACF)')\n",
    "plt.tight_layout()\n",
    "plt.show()"
   ]
  },
  {
   "cell_type": "markdown",
   "id": "8350d1f8-5034-486d-8549-b191ec385520",
   "metadata": {},
   "source": [
    "No significant spike observed"
   ]
  },
  {
   "cell_type": "markdown",
   "id": "a397ac46-dead-49ab-b4bb-d4ed0f3ea817",
   "metadata": {},
   "source": [
    "### Case 2: Unsuccessful Outcome"
   ]
  },
  {
   "cell_type": "code",
   "execution_count": 64,
   "id": "5ac70747-90a2-43a8-affd-43bab94a976a",
   "metadata": {},
   "outputs": [
    {
     "name": "stderr",
     "output_type": "stream",
     "text": [
      "[*********************100%***********************]  1 of 1 completed\n"
     ]
    }
   ],
   "source": [
    "ticker = \"COALINDIA.NS\"\n",
    "start_date = \"2018-06-01\"\n",
    "end_date = \"2024-11-14\"\n",
    "data_all_initial = yf.download(ticker, start=start_date, end=end_date)\n",
    "data_all=data_all_initial[data_all_initial.columns[1]].to_frame()\n",
    "data_all.columns=['Close']\n",
    "date=datetime(2024, 10, 1)\n",
    "train_df=data_all[:date].iloc[-500:]\n",
    "train_df=train_df[['Close']]\n",
    "test_df=data_all[(date+pd.Timedelta(days=1)):].iloc[:15]\n",
    "test_df=test_df[['Close']]\n",
    "last_test_date=test_df.index[-1].date()\n",
    "final_train_df=data_all[:last_test_date].iloc[-500:]\n",
    "final_train_df=final_train_df[['Close']]\n",
    "true_price_data=data_all[(last_test_date+pd.Timedelta(days=1)):].iloc[:15]\n",
    "true_price=true_price_data[['Close']]\n",
    "Last_Day_True_Price=final_train_df['Close'][-1]\n",
    "true_price['Per_Chng']=((true_price['Close'] - Last_Day_True_Price) / Last_Day_True_Price) * 100"
   ]
  },
  {
   "cell_type": "code",
   "execution_count": 66,
   "id": "7b8c9511-69e3-4331-afc6-d642cc7b1720",
   "metadata": {},
   "outputs": [],
   "source": [
    "model = SARIMAX(final_train_df, order=(0,1,1), seasonal_order=(5,1,0,5))\n",
    "sarimax_fit = model.fit(disp=False)"
   ]
  },
  {
   "cell_type": "code",
   "execution_count": 68,
   "id": "3557967b-1adf-4ba2-b257-1f6ef5e9f187",
   "metadata": {},
   "outputs": [],
   "source": [
    "forecast = sarimax_fit.get_forecast(steps=15)\n",
    "forecast_index = true_price.index\n",
    "forecast_values = forecast.predicted_mean"
   ]
  },
  {
   "cell_type": "code",
   "execution_count": 70,
   "id": "dde3cfb9-7988-48d1-94ba-0da729ac12b2",
   "metadata": {},
   "outputs": [
    {
     "data": {
      "image/png": "[encoded data removed]",
      "text/plain": [
       "<Figure size 1000x600 with 1 Axes>"
      ]
     },
     "metadata": {},
     "output_type": "display_data"
    }
   ],
   "source": [
    "plt.figure(figsize=(10, 6))\n",
    "plt.plot(true_price.index, true_price['Close'], label='Actual Price', color='orange')\n",
    "plt.plot(forecast_index, forecast_values, label='Predictions', color='green')\n",
    "plt.xlabel(\"Date\")\n",
    "plt.ylabel(\"Stock Price\")\n",
    "plt.title(\"Coal India Stock Price Actual vs Prediction\")\n",
    "plt.legend()\n",
    "plt.xticks(rotation=45)\n",
    "plt.show()"
   ]
  },
  {
   "cell_type": "markdown",
   "id": "7660bc70-b71d-4f9d-8c6b-9335df6c32fa",
   "metadata": {},
   "source": [
    "#### Checking the stationarity"
   ]
  },
  {
   "cell_type": "code",
   "execution_count": 72,
   "id": "4d797b71-4c29-43f8-9819-ae2c800ced7b",
   "metadata": {},
   "outputs": [
    {
     "name": "stdout",
     "output_type": "stream",
     "text": [
      "Closing Price is not stationary\n"
     ]
    }
   ],
   "source": [
    "result=adfuller(final_train_df['Close'])\n",
    "if result[1]>0.05:\n",
    "    print(\"Closing Price is not stationary\")\n",
    "else:\n",
    "    print(\"Closing Price is stationary\")"
   ]
  },
  {
   "cell_type": "code",
   "execution_count": 74,
   "id": "18b44522-8d58-4719-9ca9-4aff486b2836",
   "metadata": {},
   "outputs": [
    {
     "name": "stdout",
     "output_type": "stream",
     "text": [
      "Closing Price is stationary\n"
     ]
    }
   ],
   "source": [
    "final_train_df_copy=final_train_df['Close']\n",
    "final_train_df_copy=final_train_df_copy.diff()\n",
    "final_train_df_copy.dropna(inplace=True)\n",
    "result=adfuller(final_train_df_copy)\n",
    "if result[1]>0.05:\n",
    "    print(\"Closing Price is not stationary\")\n",
    "else:\n",
    "    print(\"Closing Price is stationary\")"
   ]
  },
  {
   "cell_type": "markdown",
   "id": "744e2337-683f-426f-bae1-56b496db858f",
   "metadata": {},
   "source": [
    "First difference make the data stationary"
   ]
  },
  {
   "cell_type": "markdown",
   "id": "06e52f4f-c19c-4e30-badc-b4e58c4deea5",
   "metadata": {},
   "source": [
    "#### Plotting ACF and PACF"
   ]
  },
  {
   "cell_type": "code",
   "execution_count": 76,
   "id": "8815c6b9-5e43-4bf3-80d7-1a4bfe9c70f8",
   "metadata": {},
   "outputs": [
    {
     "data": {
      "image/png": "[encoded data removed]",
      "text/plain": [
       "<Figure size 1500x600 with 2 Axes>"
      ]
     },
     "metadata": {},
     "output_type": "display_data"
    }
   ],
   "source": [
    "fig, ax = plt.subplots(1, 2, figsize=(15, 6))\n",
    "plot_acf(final_train_df_copy, lags=40, ax=ax[0])\n",
    "ax[0].set_title('Autocorrelation Function (ACF)')\n",
    "plot_pacf(final_train_df_copy, lags=40, method='ywm', ax=ax[1])  \n",
    "ax[1].set_title('Partial Autocorrelation Function (PACF)')\n",
    "plt.tight_layout()\n",
    "plt.show()"
   ]
  },
  {
   "cell_type": "code",
   "execution_count": null,
   "id": "ef985255-4de0-48bc-8022-3c20d451e2a6",
   "metadata": {},
   "outputs": [],
   "source": []
  }
 ],
 "metadata": {
  "kernelspec": {
   "display_name": "Python [conda env:base] *",
   "language": "python",
   "name": "conda-base-py"
  },
  "language_info": {
   "codemirror_mode": {
    "name": "ipython",
    "version": 3
   },
   "file_extension": ".py",
   "mimetype": "text/x-python",
   "name": "python",
   "nbconvert_exporter": "python",
   "pygments_lexer": "ipython3",
   "version": "3.12.7"
  }
 },
 "nbformat": 4,
 "nbformat_minor": 5
}
